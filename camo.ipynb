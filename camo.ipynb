{
  "nbformat": 4,
  "nbformat_minor": 0,
  "metadata": {
    "colab": {
      "name": "camo.ipynb",
      "provenance": [],
      "collapsed_sections": [],
      "mount_file_id": "1a8vOXeTjfZsZyV1SW6QPBGBxxreD7au1",
      "authorship_tag": "ABX9TyNeb5Asw3zc9NmBtSid9LLM",
      "include_colab_link": true
    },
    "kernelspec": {
      "name": "python3",
      "display_name": "Python 3"
    },
    "accelerator": "GPU"
  },
  "cells": [
    {
      "cell_type": "markdown",
      "metadata": {
        "id": "view-in-github",
        "colab_type": "text"
      },
      "source": [
        "<a href=\"https://colab.research.google.com/github/Catower917/Camouflage-binary-classification/blob/main/camo.ipynb\" target=\"_parent\"><img src=\"https://colab.research.google.com/assets/colab-badge.svg\" alt=\"Open In Colab\"/></a>"
      ]
    },
    {
      "cell_type": "code",
      "metadata": {
        "colab": {
          "base_uri": "https://localhost:8080/"
        },
        "id": "IcU_8U_1BNp4",
        "outputId": "016522b9-a50e-47aa-b678-686a5120545f"
      },
      "source": [
        "from google.colab import drive\r\n",
        "drive.mount('/content/gdrive')"
      ],
      "execution_count": null,
      "outputs": [
        {
          "output_type": "stream",
          "text": [
            "Mounted at /content/gdrive\n"
          ],
          "name": "stdout"
        }
      ]
    },
    {
      "cell_type": "code",
      "metadata": {
        "colab": {
          "base_uri": "https://localhost:8080/"
        },
        "id": "DK-Mj_hjCIix",
        "outputId": "3717bb14-db32-4cbe-f33a-92885d1359af"
      },
      "source": [
        "cd /content/drive/MyDrive/Data"
      ],
      "execution_count": 18,
      "outputs": [
        {
          "output_type": "stream",
          "text": [
            "/content/drive/MyDrive/Data\n"
          ],
          "name": "stdout"
        }
      ]
    },
    {
      "cell_type": "code",
      "metadata": {
        "colab": {
          "base_uri": "https://localhost:8080/"
        },
        "id": "bPtu5rRLCPnP",
        "outputId": "86f892ca-8c07-4c56-b852-9ffc146374a3"
      },
      "source": [
        "!wget https://www.kaggle.com/imneonizer/normal-vs-camouflage-clothes/download/archive.zip"
      ],
      "execution_count": 6,
      "outputs": [
        {
          "output_type": "stream",
          "text": [
            "--2021-03-14 04:51:56--  https://www.kaggle.com/imneonizer/normal-vs-camouflage-clothes/download/archive.zip\n",
            "Resolving www.kaggle.com (www.kaggle.com)... 35.244.233.98\n",
            "Connecting to www.kaggle.com (www.kaggle.com)|35.244.233.98|:443... connected.\n",
            "HTTP request sent, awaiting response... 302 Found\n",
            "Location: /account/login?titleType=dataset-downloads&showDatasetDownloadSkip=False&messageId=datasetsWelcome&returnUrl=%2Fimneonizer%2Fnormal-vs-camouflage-clothes%3Fresource%3Ddownload%2Farchive.zip [following]\n",
            "--2021-03-14 04:51:56--  https://www.kaggle.com/account/login?titleType=dataset-downloads&showDatasetDownloadSkip=False&messageId=datasetsWelcome&returnUrl=%2Fimneonizer%2Fnormal-vs-camouflage-clothes%3Fresource%3Ddownload%2Farchive.zip\n",
            "Reusing existing connection to www.kaggle.com:443.\n",
            "HTTP request sent, awaiting response... 200 OK\n",
            "Length: unspecified [text/html]\n",
            "Saving to: ‘archive.zip’\n",
            "\n",
            "archive.zip             [ <=>                ]   7.55K  --.-KB/s    in 0.007s  \n",
            "\n",
            "2021-03-14 04:51:56 (1022 KB/s) - ‘archive.zip’ saved [7733]\n",
            "\n"
          ],
          "name": "stdout"
        }
      ]
    },
    {
      "cell_type": "code",
      "metadata": {
        "colab": {
          "base_uri": "https://localhost:8080/"
        },
        "id": "xyT4UFQXC3ye",
        "outputId": "51e8b7c4-5750-45e4-f9de-a8bff3a60f7e"
      },
      "source": [
        "!ls /content/drive/MyDrive/Data"
      ],
      "execution_count": 13,
      "outputs": [
        {
          "output_type": "stream",
          "text": [
            "archive.zip  Fish.csv\n"
          ],
          "name": "stdout"
        }
      ]
    },
    {
      "cell_type": "code",
      "metadata": {
        "id": "zIA2YEHKDBPi"
      },
      "source": [
        "!unzip -qq /content/drive/MyDrive/Data/archive.zip"
      ],
      "execution_count": 14,
      "outputs": []
    },
    {
      "cell_type": "code",
      "metadata": {
        "colab": {
          "base_uri": "https://localhost:8080/"
        },
        "id": "2TQJoA5KCakt",
        "outputId": "b37fb4c5-6114-413d-f886-a9888a73c8e3"
      },
      "source": [
        "!ls /content/drive/MyDrive/Data/camo"
      ],
      "execution_count": 21,
      "outputs": [
        {
          "output_type": "stream",
          "text": [
            "camouflage_clothes  normal_clothes\n"
          ],
          "name": "stdout"
        }
      ]
    },
    {
      "cell_type": "code",
      "metadata": {
        "colab": {
          "base_uri": "https://localhost:8080/"
        },
        "id": "Eq9bMTg7IN-X",
        "outputId": "24384933-2e00-4eff-9d90-d1a2189e0d97"
      },
      "source": [
        "from PIL import Image\r\n",
        "import os, glob, sys, numpy as np\r\n",
        "from sklearn.model_selection import train_test_split\r\n",
        "from keras.utils import np_utils\r\n",
        "\r\n",
        "img_dir = '/content/drive/MyDrive/Data/camo'\r\n",
        "categories = ['camouflage_clothes', 'normal_clothes']\r\n",
        "np_classes = len(categories)\r\n",
        "\r\n",
        "image_w = 64\r\n",
        "image_h = 64\r\n",
        "\r\n",
        "\r\n",
        "pixel = image_h * image_w * 3\r\n",
        "\r\n",
        "X = []\r\n",
        "y = []\r\n",
        "\r\n",
        "for idx, cat in enumerate(categories):\r\n",
        "    img_dir_detail = img_dir + \"/\" + cat\r\n",
        "    files = glob.glob(img_dir_detail+\"/*.jpg\")\r\n",
        "\r\n",
        "\r\n",
        "    for i, f in enumerate(files):\r\n",
        "        try:\r\n",
        "            img = Image.open(f)\r\n",
        "            img = img.convert(\"RGB\")\r\n",
        "            img = img.resize((image_w, image_h))\r\n",
        "            data = np.asarray(img)\r\n",
        "            #Y는 0 아니면 1이니까 idx값으로 넣는다.\r\n",
        "            X.append(data)\r\n",
        "            y.append(idx)\r\n",
        "            if i % 300 == 0:\r\n",
        "                print(cat, \" : \", f)\r\n",
        "        except:\r\n",
        "            print(cat, str(i)+\" 번째에서 에러 \")\r\n",
        "X = np.array(X)\r\n",
        "Y = np.array(y)\r\n",
        "\r\n",
        "\r\n",
        "X_train, X_test, Y_train, Y_test = train_test_split(X, Y, test_size=0.1)\r\n",
        "\r\n",
        "xy = (X_train, X_test, Y_train, Y_test)\r\n",
        "np.save(\"/content/drive/MyDrive/Data/camo/numpy_data/binary_image_data.npy\", xy)"
      ],
      "execution_count": null,
      "outputs": [
        {
          "output_type": "stream",
          "text": [
            "camouflage_clothes  :  /content/drive/MyDrive/Data/camo/camouflage_clothes/0000.jpg\n",
            "camouflage_clothes  :  /content/drive/MyDrive/Data/camo/camouflage_clothes/0001195.jpg\n",
            "camouflage_clothes  :  /content/drive/MyDrive/Data/camo/camouflage_clothes/0001552.jpg\n",
            "camouflage_clothes  :  /content/drive/MyDrive/Data/camo/camouflage_clothes/0001893.jpg\n",
            "camouflage_clothes  :  /content/drive/MyDrive/Data/camo/camouflage_clothes/000225.jpg\n",
            "camouflage_clothes  :  /content/drive/MyDrive/Data/camo/camouflage_clothes/0002596.jpg\n",
            "camouflage_clothes  :  /content/drive/MyDrive/Data/camo/camouflage_clothes/0002939.jpg\n"
          ],
          "name": "stdout"
        }
      ]
    },
    {
      "cell_type": "code",
      "metadata": {
        "colab": {
          "base_uri": "https://localhost:8080/"
        },
        "id": "fnM4UJDJNfLe",
        "outputId": "cb333920-d106-4751-fd77-079073fb6abc"
      },
      "source": [
        "from keras.models import Sequential\r\n",
        "from keras.layers import Conv2D, MaxPooling2D, Dense, Flatten, Dropout\r\n",
        "from keras.callbacks import EarlyStopping, ModelCheckpoint\r\n",
        "import matplotlib.pyplot as plt\r\n",
        "import numpy as np\r\n",
        "\r\n",
        "np.load.__defaults__=(None, True, True, 'ASCII')\r\n",
        "X_train, X_test, y_train, y_test = np.load('/content/drive/MyDrive/Data/camo/numpy_data/binary_image_data.npy')\r\n",
        "np.load.__defaults__=(None, False, True, 'ASCII')\r\n",
        "\r\n",
        "print(X_train.shape)\r\n",
        "print(X_train.shape[0])\r\n",
        "print(np.bincount(y_train))\r\n",
        "print(np.bincount(y_test))"
      ],
      "execution_count": 6,
      "outputs": [
        {
          "output_type": "stream",
          "text": [
            "(14308, 64, 64, 3)\n",
            "14308\n",
            "[7130 7178]\n",
            "[819 771]\n"
          ],
          "name": "stdout"
        }
      ]
    },
    {
      "cell_type": "code",
      "metadata": {
        "colab": {
          "base_uri": "https://localhost:8080/",
          "height": 268
        },
        "id": "cZMfERRkQGn0",
        "outputId": "0e6aff70-2b2d-408d-db6f-cea0e038bfa9"
      },
      "source": [
        "import matplotlib.pyplot as plt\r\n",
        "\r\n",
        "plt.imshow(X_train[0])\r\n",
        "plt.show()"
      ],
      "execution_count": 7,
      "outputs": [
        {
          "output_type": "display_data",
          "data": {
            "image/png": "[encoded data removed]",
            "text/plain": [
              "<Figure size 432x288 with 1 Axes>"
            ]
          },
          "metadata": {
            "tags": [],
            "needs_background": "light"
          }
        }
      ]
    },
    {
      "cell_type": "code",
      "metadata": {
        "id": "St4zak0xbGh7"
      },
      "source": [
        "from keras.models import Sequential\r\n",
        "import os\r\n",
        "image_w = 64\r\n",
        "image_h = 64\r\n",
        "X_train = X_train.astype('float32') / 255\r\n",
        "X_test = X_test.astype('float32') / 255\r\n",
        "\r\n",
        "\r\n",
        "model = Sequential()\r\n",
        "model.add(Conv2D(32, (3,3), padding=\"same\", input_shape=X_train.shape[1:], activation=\"relu\"))\r\n",
        "model.add(MaxPooling2D(pool_size=(2,2)))\r\n",
        "model.add(Conv2D(32, (3,3), padding=\"same\", activation=\"relu\"))\r\n",
        "model.add(MaxPooling2D(pool_size=(2,2)))\r\n",
        "\r\n",
        "model.add(Conv2D(64, (3,3), padding=\"same\", activation=\"relu\"))\r\n",
        "model.add(MaxPooling2D(pool_size=(2,2)))\r\n",
        "model.add(Dropout(0.25))\r\n",
        "\r\n",
        "model.add(Conv2D(64, (3,3), padding=\"same\", activation=\"relu\"))\r\n",
        "model.add(MaxPooling2D(pool_size=(2,2)))\r\n",
        "model.add(Dropout(0.25))\r\n",
        "\r\n",
        "model.add(Flatten())\r\n",
        "model.add(Dense(256, activation=\"relu\"))\r\n",
        "model.add(Dropout(0.5))\r\n",
        "model.add(Dense(1, activation=\"sigmoid\"))\r\n",
        "    \r\n",
        "model.compile(loss='binary_crossentropy', optimizer='adam', metrics=['accuracy'])\r\n",
        "    \r\n",
        "model_dir = './model'\r\n",
        "if not os.path.exists(model_dir):\r\n",
        "  os.mkdir(model_dir)\r\n",
        "model_path = model_dir + \"/camo_classify.model\"\r\n",
        "    \r\n",
        "checkpoint = ModelCheckpoint(filepath=model_path, monitor='val_loss', verbose=1, save_best_only=True)\r\n",
        "early_stopping = EarlyStopping(monitor='val_loss', patience=7)"
      ],
      "execution_count": 8,
      "outputs": []
    },
    {
      "cell_type": "code",
      "metadata": {
        "colab": {
          "base_uri": "https://localhost:8080/"
        },
        "id": "MHgPqAUyfsWw",
        "outputId": "8b23fc29-415e-4296-c73e-eed6e9e659e9"
      },
      "source": [
        "model.summary()"
      ],
      "execution_count": 9,
      "outputs": [
        {
          "output_type": "stream",
          "text": [
            "Model: \"sequential\"\n",
            "_________________________________________________________________\n",
            "Layer (type)                 Output Shape              Param #   \n",
            "=================================================================\n",
            "conv2d (Conv2D)              (None, 64, 64, 32)        896       \n",
            "_________________________________________________________________\n",
            "max_pooling2d (MaxPooling2D) (None, 32, 32, 32)        0         \n",
            "_________________________________________________________________\n",
            "conv2d_1 (Conv2D)            (None, 32, 32, 32)        9248      \n",
            "_________________________________________________________________\n",
            "max_pooling2d_1 (MaxPooling2 (None, 16, 16, 32)        0         \n",
            "_________________________________________________________________\n",
            "conv2d_2 (Conv2D)            (None, 16, 16, 64)        18496     \n",
            "_________________________________________________________________\n",
            "max_pooling2d_2 (MaxPooling2 (None, 8, 8, 64)          0         \n",
            "_________________________________________________________________\n",
            "dropout (Dropout)            (None, 8, 8, 64)          0         \n",
            "_________________________________________________________________\n",
            "conv2d_3 (Conv2D)            (None, 8, 8, 64)          36928     \n",
            "_________________________________________________________________\n",
            "max_pooling2d_3 (MaxPooling2 (None, 4, 4, 64)          0         \n",
            "_________________________________________________________________\n",
            "dropout_1 (Dropout)          (None, 4, 4, 64)          0         \n",
            "_________________________________________________________________\n",
            "flatten (Flatten)            (None, 1024)              0         \n",
            "_________________________________________________________________\n",
            "dense (Dense)                (None, 256)               262400    \n",
            "_________________________________________________________________\n",
            "dropout_2 (Dropout)          (None, 256)               0         \n",
            "_________________________________________________________________\n",
            "dense_1 (Dense)              (None, 1)                 257       \n",
            "=================================================================\n",
            "Total params: 328,225\n",
            "Trainable params: 328,225\n",
            "Non-trainable params: 0\n",
            "_________________________________________________________________\n"
          ],
          "name": "stdout"
        }
      ]
    },
    {
      "cell_type": "code",
      "metadata": {
        "colab": {
          "base_uri": "https://localhost:8080/"
        },
        "id": "kdLxdzFYfvZ3",
        "outputId": "5e6aba14-1706-40c1-f9b1-82587f6e08bf"
      },
      "source": [
        "history = model.fit(X_train, y_train, batch_size=64, epochs=50, validation_split=0.15, callbacks=[checkpoint, early_stopping])"
      ],
      "execution_count": 90,
      "outputs": [
        {
          "output_type": "stream",
          "text": [
            "Epoch 1/50\n",
            "191/191 [==============================] - 2s 10ms/step - loss: 0.0872 - accuracy: 0.9678 - val_loss: 0.1044 - val_accuracy: 0.9637\n",
            "\n",
            "Epoch 00001: val_loss did not improve from 0.10014\n",
            "Epoch 2/50\n",
            "191/191 [==============================] - 2s 9ms/step - loss: 0.0752 - accuracy: 0.9731 - val_loss: 0.1169 - val_accuracy: 0.9613\n",
            "\n",
            "Epoch 00002: val_loss did not improve from 0.10014\n",
            "Epoch 3/50\n",
            "191/191 [==============================] - 2s 9ms/step - loss: 0.0655 - accuracy: 0.9759 - val_loss: 0.0990 - val_accuracy: 0.9679\n",
            "\n",
            "Epoch 00003: val_loss improved from 0.10014 to 0.09895, saving model to ./model/camo_classify.model\n",
            "INFO:tensorflow:Assets written to: ./model/camo_classify.model/assets\n",
            "Epoch 4/50\n",
            "191/191 [==============================] - 2s 9ms/step - loss: 0.0608 - accuracy: 0.9776 - val_loss: 0.2196 - val_accuracy: 0.9227\n",
            "\n",
            "Epoch 00004: val_loss did not improve from 0.09895\n",
            "Epoch 5/50\n",
            "191/191 [==============================] - 2s 9ms/step - loss: 0.0559 - accuracy: 0.9788 - val_loss: 0.1175 - val_accuracy: 0.9641\n",
            "\n",
            "Epoch 00005: val_loss did not improve from 0.09895\n",
            "Epoch 6/50\n",
            "191/191 [==============================] - 2s 9ms/step - loss: 0.0498 - accuracy: 0.9810 - val_loss: 0.1563 - val_accuracy: 0.9506\n",
            "\n",
            "Epoch 00006: val_loss did not improve from 0.09895\n",
            "Epoch 7/50\n",
            "191/191 [==============================] - 2s 9ms/step - loss: 0.0486 - accuracy: 0.9820 - val_loss: 0.1035 - val_accuracy: 0.9693\n",
            "\n",
            "Epoch 00007: val_loss did not improve from 0.09895\n",
            "Epoch 8/50\n",
            "191/191 [==============================] - 2s 9ms/step - loss: 0.0503 - accuracy: 0.9824 - val_loss: 0.1024 - val_accuracy: 0.9679\n",
            "\n",
            "Epoch 00008: val_loss did not improve from 0.09895\n",
            "Epoch 9/50\n",
            "191/191 [==============================] - 2s 9ms/step - loss: 0.0526 - accuracy: 0.9794 - val_loss: 0.0979 - val_accuracy: 0.9711\n",
            "\n",
            "Epoch 00009: val_loss improved from 0.09895 to 0.09793, saving model to ./model/camo_classify.model\n",
            "INFO:tensorflow:Assets written to: ./model/camo_classify.model/assets\n",
            "Epoch 10/50\n",
            "191/191 [==============================] - 2s 9ms/step - loss: 0.0469 - accuracy: 0.9819 - val_loss: 0.0979 - val_accuracy: 0.9660\n",
            "\n",
            "Epoch 00010: val_loss improved from 0.09793 to 0.09790, saving model to ./model/camo_classify.model\n",
            "INFO:tensorflow:Assets written to: ./model/camo_classify.model/assets\n",
            "Epoch 11/50\n",
            "191/191 [==============================] - 2s 9ms/step - loss: 0.0467 - accuracy: 0.9822 - val_loss: 0.0917 - val_accuracy: 0.9725\n",
            "\n",
            "Epoch 00011: val_loss improved from 0.09790 to 0.09166, saving model to ./model/camo_classify.model\n",
            "INFO:tensorflow:Assets written to: ./model/camo_classify.model/assets\n",
            "Epoch 12/50\n",
            "191/191 [==============================] - 2s 9ms/step - loss: 0.0435 - accuracy: 0.9833 - val_loss: 0.1232 - val_accuracy: 0.9655\n",
            "\n",
            "Epoch 00012: val_loss did not improve from 0.09166\n",
            "Epoch 13/50\n",
            "191/191 [==============================] - 2s 9ms/step - loss: 0.0406 - accuracy: 0.9845 - val_loss: 0.1318 - val_accuracy: 0.9623\n",
            "\n",
            "Epoch 00013: val_loss did not improve from 0.09166\n",
            "Epoch 14/50\n",
            "191/191 [==============================] - 2s 9ms/step - loss: 0.0412 - accuracy: 0.9852 - val_loss: 0.1030 - val_accuracy: 0.9688\n",
            "\n",
            "Epoch 00014: val_loss did not improve from 0.09166\n",
            "Epoch 15/50\n",
            "191/191 [==============================] - 2s 9ms/step - loss: 0.0398 - accuracy: 0.9848 - val_loss: 0.1089 - val_accuracy: 0.9716\n",
            "\n",
            "Epoch 00015: val_loss did not improve from 0.09166\n",
            "Epoch 16/50\n",
            "191/191 [==============================] - 2s 9ms/step - loss: 0.0398 - accuracy: 0.9863 - val_loss: 0.1565 - val_accuracy: 0.9422\n",
            "\n",
            "Epoch 00016: val_loss did not improve from 0.09166\n",
            "Epoch 17/50\n",
            "191/191 [==============================] - 2s 9ms/step - loss: 0.1633 - accuracy: 0.9368 - val_loss: 0.1486 - val_accuracy: 0.9525\n",
            "\n",
            "Epoch 00017: val_loss did not improve from 0.09166\n",
            "Epoch 18/50\n",
            "191/191 [==============================] - 2s 9ms/step - loss: 0.0652 - accuracy: 0.9753 - val_loss: 0.0926 - val_accuracy: 0.9707\n",
            "\n",
            "Epoch 00018: val_loss did not improve from 0.09166\n"
          ],
          "name": "stdout"
        }
      ]
    },
    {
      "cell_type": "code",
      "metadata": {
        "colab": {
          "base_uri": "https://localhost:8080/"
        },
        "id": "ADhAnbY8gsDw",
        "outputId": "381fb8c4-7f38-46d3-aa14-d430a7cb2b2b"
      },
      "source": [
        "print(\"정확도 : %.2f \" %(model.evaluate(X_test, y_test)[1]))"
      ],
      "execution_count": 91,
      "outputs": [
        {
          "output_type": "stream",
          "text": [
            "50/50 [==============================] - 0s 4ms/step - loss: 0.0739 - accuracy: 0.9717\n",
            "정확도 : 0.97 \n"
          ],
          "name": "stdout"
        }
      ]
    },
    {
      "cell_type": "code",
      "metadata": {
        "colab": {
          "base_uri": "https://localhost:8080/",
          "height": 295
        },
        "id": "kYVLNEOygyOg",
        "outputId": "15c593f1-3c42-41d2-8f7c-de22099906f3"
      },
      "source": [
        "plt.plot(history.history['loss'])\r\n",
        "plt.plot(history.history['val_loss'])\r\n",
        "plt.plot(history.history['accuracy'])\r\n",
        "plt.plot(history.history['val_accuracy'])\r\n",
        "plt.title('model loss')\r\n",
        "plt.ylabel('loss')\r\n",
        "plt.xlabel('epoch')\r\n",
        "plt.legend(['loss', 'val_loss', 'acc', 'val_acc'], loc='upper left')\r\n",
        "plt.show()"
      ],
      "execution_count": 18,
      "outputs": [
        {
          "output_type": "display_data",
          "data": {
            "image/png": "[encoded data removed]",
            "text/plain": [
              "<Figure size 432x288 with 1 Axes>"
            ]
          },
          "metadata": {
            "tags": [],
            "needs_background": "light"
          }
        }
      ]
    },
    {
      "cell_type": "code",
      "metadata": {
        "colab": {
          "base_uri": "https://localhost:8080/"
        },
        "id": "6TpUx4s7h7dN",
        "outputId": "60145039-62ab-49e8-9766-0379d0bcf8f4"
      },
      "source": [
        "from PIL import Image\r\n",
        "import os, glob, numpy as np\r\n",
        "from keras.models import load_model\r\n",
        "import matplotlib.pyplot as plt\r\n",
        "import tensorflow as tf\r\n",
        "\r\n",
        "seed = 5\r\n",
        "tf.random.set_seed(seed)\r\n",
        "np.random.seed(seed)\r\n",
        "\r\n",
        "caltech_dir = '/content/drive/MyDrive/Data/camo/test'\r\n",
        "\r\n",
        "\r\n",
        "image_w = 64\r\n",
        "image_h = 64\r\n",
        "\r\n",
        "pixels = image_h * image_w * 3\r\n",
        "\r\n",
        "X = []\r\n",
        "filenames = []\r\n",
        "files = glob.glob(caltech_dir+\"/*/*.*\")\r\n",
        "for i, f in enumerate(files):\r\n",
        "    img = Image.open(f)\r\n",
        "    img = img.convert(\"RGB\")\r\n",
        "    img = img.resize((image_w, image_h))\r\n",
        "    data = np.asarray(img)\r\n",
        "\r\n",
        "    filenames.append(f)\r\n",
        "    X.append(data)\r\n",
        "\r\n",
        "\r\n",
        "X = np.array(X)\r\n",
        "\r\n",
        "X = X.astype(float) / 255\r\n",
        "model = load_model('/content/model/camo_classify.model')\r\n",
        "\r\n",
        "prediction = model.predict(X)\r\n",
        "np.set_printoptions(formatter={'float': lambda x: \"{0:0.3f}\".format(x)})\r\n",
        "\r\n",
        "cnt = 0\r\n",
        "for i in prediction:\r\n",
        "  if i >= 0.5:\r\n",
        "    print(filenames[cnt].split(\"/\")[7]+\"   \"+filenames[cnt].split(\"/\")[8] + \"  이미지는 normal 로 추정됩니다.\")\r\n",
        "  else:\r\n",
        "    print(filenames[cnt].split(\"/\")[7]+\"   \"+filenames[cnt].split(\"/\")[8] + \"  이미지는 camouflage 으로 추정됩니다.\")\r\n",
        "    cnt += 1\r\n",
        "   \r\n",
        "#음성 -> camo\r\n",
        "#양성 -> normal"
      ],
      "execution_count": 113,
      "outputs": [
        {
          "output_type": "stream",
          "text": [
            "WARNING:tensorflow:11 out of the last 11 calls to <function Model.make_predict_function.<locals>.predict_function at 0x7f163dcc1b00> triggered tf.function retracing. Tracing is expensive and the excessive number of tracings could be due to (1) creating @tf.function repeatedly in a loop, (2) passing tensors with different shapes, (3) passing Python objects instead of tensors. For (1), please define your @tf.function outside of the loop. For (2), @tf.function has experimental_relax_shapes=True option that relaxes argument shapes that can avoid unnecessary retracing. For (3), please refer to https://www.tensorflow.org/guide/function#controlling_retracing and https://www.tensorflow.org/api_docs/python/tf/function for  more details.\n",
            "camoyflage   camo1.jpg  이미지는 camouflage 으로 추정됩니다.\n",
            "camoyflage   camo3.jpg  이미지는 camouflage 으로 추정됩니다.\n",
            "camoyflage   camo2.jpeg  이미지는 camouflage 으로 추정됩니다.\n",
            "camoyflage   0005.jpg  이미지는 camouflage 으로 추정됩니다.\n",
            "camoyflage   0003.jpg  이미지는 camouflage 으로 추정됩니다.\n",
            "camoyflage   0000.jpg  이미지는 camouflage 으로 추정됩니다.\n",
            "camoyflage   0007.jpg  이미지는 camouflage 으로 추정됩니다.\n",
            "camoyflage   00011.jpg  이미지는 camouflage 으로 추정됩니다.\n",
            "camoyflage   00021.jpg  이미지는 camouflage 으로 추정됩니다.\n",
            "camoyflage   00014.jpg  이미지는 camouflage 으로 추정됩니다.\n",
            "camoyflage   00016.jpg  이미지는 camouflage 으로 추정됩니다.\n",
            "camoyflage   00024.jpg  이미지는 camouflage 으로 추정됩니다.\n",
            "camoyflage   00022.jpg  이미지는 camouflage 으로 추정됩니다.\n",
            "camoyflage   00023.jpg  이미지는 camouflage 으로 추정됩니다.\n",
            "camoyflage   00010.jpg  이미지는 camouflage 으로 추정됩니다.\n",
            "camoyflage   00015.jpg  이미지는 camouflage 으로 추정됩니다.\n",
            "camoyflage   0001.jpg  이미지는 camouflage 으로 추정됩니다.\n",
            "camoyflage   00020.jpg  이미지는 camouflage 으로 추정됩니다.\n",
            "normal   normal2.jpg  이미지는 normal 로 추정됩니다.\n",
            "normal   normal2.jpg  이미지는 camouflage 으로 추정됩니다.\n",
            "normal   normal1.jpg  이미지는 normal 로 추정됩니다.\n",
            "normal   normal1.jpg  이미지는 normal 로 추정됩니다.\n",
            "normal   normal1.jpg  이미지는 camouflage 으로 추정됩니다.\n",
            "normal   normal3.jpg  이미지는 normal 로 추정됩니다.\n",
            "normal   normal3.jpg  이미지는 normal 로 추정됩니다.\n",
            "normal   normal3.jpg  이미지는 normal 로 추정됩니다.\n",
            "normal   normal3.jpg  이미지는 normal 로 추정됩니다.\n",
            "normal   normal3.jpg  이미지는 normal 로 추정됩니다.\n",
            "normal   normal3.jpg  이미지는 normal 로 추정됩니다.\n"
          ],
          "name": "stdout"
        }
      ]
    }
  ]
}